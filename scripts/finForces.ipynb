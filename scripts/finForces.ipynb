{
 "cells": [
  {
   "cell_type": "code",
   "execution_count": 1,
   "metadata": {},
   "outputs": [],
   "source": [
    "import numpy as np\n",
    "import matplotlib.pyplot as plt\n",
    "\n",
    "from fin import Fin, ureg"
   ]
  },
  {
   "cell_type": "code",
   "execution_count": 62,
   "metadata": {},
   "outputs": [],
   "source": [
    "\n",
    "\n",
    "fin = Fin(root_chord=5*ureg.inch, \n",
    "          tip_chord=2*ureg.inch,\n",
    "          span=3*ureg.inch,\n",
    "          tube_diameter=75*2*ureg.mm,\n",
    "          mid_chord_sweep=20*ureg.degree)\n",
    "\n"
   ]
  },
  {
   "cell_type": "code",
   "execution_count": 63,
   "metadata": {},
   "outputs": [
    {
     "data": {
      "image/png": "[encoded data removed]",
      "text/plain": [
       "<Figure size 432x288 with 1 Axes>"
      ]
     },
     "metadata": {
      "needs_background": "light"
     },
     "output_type": "display_data"
    }
   ],
   "source": [
    "fig, ax = plt.subplots()\n",
    "fin.plot()\n",
    "plt.show()"
   ]
  },
  {
   "cell_type": "code",
   "execution_count": 64,
   "metadata": {},
   "outputs": [
    {
     "data": {
      "text/html": [
       "\\[0.0011354170459155861\\ inch^2/millimeter^2\\]"
      ],
      "text/latex": [
       "$0.0011354170459155861\\ \\frac{\\mathrm{inch}^{2}}{\\mathrm{millimeter}^{2}}$"
      ],
      "text/plain": [
       "0.0011354170459155861 <Unit('inch ** 2 / millimeter ** 2')>"
      ]
     },
     "execution_count": 64,
     "metadata": {},
     "output_type": "execute_result"
    }
   ],
   "source": [
    "fin.CNa()"
   ]
  },
  {
   "cell_type": "code",
   "execution_count": 65,
   "metadata": {},
   "outputs": [
    {
     "data": {
      "text/html": [
       "\\[2.0393903011994032\\ inch\\]"
      ],
      "text/latex": [
       "$2.0393903011994032\\ \\mathrm{inch}$"
      ],
      "text/plain": [
       "2.0393903011994032 <Unit('inch')>"
      ]
     },
     "execution_count": 65,
     "metadata": {},
     "output_type": "execute_result"
    }
   ],
   "source": [
    "fin.zcp()"
   ]
  },
  {
   "cell_type": "code",
   "execution_count": 66,
   "metadata": {},
   "outputs": [
    {
     "data": {
      "text/html": [
       "\\[107.65714285714286\\ millimeter\\]"
      ],
      "text/latex": [
       "$107.65714285714286\\ \\mathrm{millimeter}$"
      ],
      "text/plain": [
       "107.65714285714286 <Unit('millimeter')>"
      ]
     },
     "execution_count": 66,
     "metadata": {},
     "output_type": "execute_result"
    }
   ],
   "source": [
    "fin.ycp()"
   ]
  },
  {
   "cell_type": "code",
   "execution_count": 67,
   "metadata": {},
   "outputs": [
    {
     "data": {
      "text/html": [
       "\\[2.5919107027986072\\ inch\\]"
      ],
      "text/latex": [
       "$2.5919107027986072\\ \\mathrm{inch}$"
      ],
      "text/plain": [
       "2.5919107027986072 <Unit('inch')>"
      ]
     },
     "execution_count": 67,
     "metadata": {},
     "output_type": "execute_result"
    }
   ],
   "source": [
    "fin.x_t()"
   ]
  },
  {
   "cell_type": "code",
   "execution_count": 68,
   "metadata": {},
   "outputs": [
    {
     "data": {
      "text/html": [
       "\\[10.5\\ inch^2\\]"
      ],
      "text/latex": [
       "$10.5\\ \\mathrm{inch}^{2}$"
      ],
      "text/plain": [
       "10.5 <Unit('inch ** 2')>"
      ]
     },
     "execution_count": 68,
     "metadata": {},
     "output_type": "execute_result"
    }
   ],
   "source": [
    "fin.area()"
   ]
  },
  {
   "cell_type": "code",
   "execution_count": 69,
   "metadata": {},
   "outputs": [
    {
     "data": {
      "text/html": [
       "\\[17671.458676442588\\ millimeter^2\\]"
      ],
      "text/latex": [
       "$17671.458676442588\\ \\mathrm{millimeter}^{2}$"
      ],
      "text/plain": [
       "17671.458676442588 <Unit('millimeter ** 2')>"
      ]
     },
     "execution_count": 69,
     "metadata": {},
     "output_type": "execute_result"
    }
   ],
   "source": [
    "fin.Aref()"
   ]
  },
  {
   "cell_type": "code",
   "execution_count": 70,
   "metadata": {},
   "outputs": [
    {
     "data": {
      "text/html": [
       "\\[10.573294725012559\\ newton\\]"
      ],
      "text/latex": [
       "$10.573294725012559\\ \\mathrm{newton}$"
      ],
      "text/plain": [
       "10.573294725012559 <Unit('newton')>"
      ]
     },
     "execution_count": 70,
     "metadata": {},
     "output_type": "execute_result"
    }
   ],
   "source": [
    "fin.lift(Vinf=136*ureg.m/ureg.s).to(ureg.N)"
   ]
  },
  {
   "cell_type": "code",
   "execution_count": 71,
   "metadata": {},
   "outputs": [
    {
     "data": {
      "text/html": [
       "\\[107.65714285714286\\ millimeter\\]"
      ],
      "text/latex": [
       "$107.65714285714286\\ \\mathrm{millimeter}$"
      ],
      "text/plain": [
       "107.65714285714286 <Unit('millimeter')>"
      ]
     },
     "execution_count": 71,
     "metadata": {},
     "output_type": "execute_result"
    }
   ],
   "source": [
    "fin.ycp().to(ureg.mm)"
   ]
  },
  {
   "cell_type": "code",
   "execution_count": 81,
   "metadata": {},
   "outputs": [
    {
     "data": {
      "text/html": [
       "\\[32.65714285714286\\ millimeter\\]"
      ],
      "text/latex": [
       "$32.65714285714286\\ \\mathrm{millimeter}$"
      ],
      "text/plain": [
       "32.65714285714286 <Unit('millimeter')>"
      ]
     },
     "execution_count": 81,
     "metadata": {},
     "output_type": "execute_result"
    }
   ],
   "source": [
    "(fin.ycp()-fin.r_t).to(ureg.mm)"
   ]
  },
  {
   "cell_type": "code",
   "execution_count": 72,
   "metadata": {
    "scrolled": true
   },
   "outputs": [
    {
     "data": {
      "text/html": [
       "\\[3414.872102044056\\ millimeter\\ newton\\]"
      ],
      "text/latex": [
       "$3414.872102044056\\ \\mathrm{millimeter} \\cdot \\mathrm{newton}$"
      ],
      "text/plain": [
       "3414.872102044056 <Unit('millimeter * newton')>"
      ]
     },
     "execution_count": 72,
     "metadata": {},
     "output_type": "execute_result"
    }
   ],
   "source": [
    "3*(fin.lift(Vinf=136*ureg.m/ureg.s).to(ureg.N) *fin.ycp() ).to(ureg.N*ureg.mm)"
   ]
  },
  {
   "cell_type": "code",
   "execution_count": 73,
   "metadata": {},
   "outputs": [
    {
     "data": {
      "text/html": [
       "\\[345.2935963054102\\ millimeter\\ newton\\]"
      ],
      "text/latex": [
       "$345.2935963054102\\ \\mathrm{millimeter} \\cdot \\mathrm{newton}$"
      ],
      "text/plain": [
       "345.2935963054102 <Unit('millimeter * newton')>"
      ]
     },
     "execution_count": 73,
     "metadata": {},
     "output_type": "execute_result"
    }
   ],
   "source": [
    "(fin.lift(Vinf=136*ureg.m/ureg.s).to(ureg.N) *(fin.ycp()-fin.r_t) ).to(ureg.N*ureg.mm)"
   ]
  },
  {
   "cell_type": "code",
   "execution_count": 74,
   "metadata": {},
   "outputs": [
    {
     "data": {
      "text/html": [
       "\\[345.2935963054102\\ millimeter\\ newton\\]"
      ],
      "text/latex": [
       "$345.2935963054102\\ \\mathrm{millimeter} \\cdot \\mathrm{newton}$"
      ],
      "text/plain": [
       "345.2935963054102 <Unit('millimeter * newton')>"
      ]
     },
     "execution_count": 74,
     "metadata": {},
     "output_type": "execute_result"
    }
   ],
   "source": [
    "fin.root_bending_moment(Vinf = 136*ureg.m/ureg.s)"
   ]
  },
  {
   "cell_type": "code",
   "execution_count": 75,
   "metadata": {},
   "outputs": [
    {
     "data": {
      "text/html": [
       "\\[11328.800000000001\\ pascal\\]"
      ],
      "text/latex": [
       "$11328.800000000001\\ \\mathrm{pascal}$"
      ],
      "text/plain": [
       "11328.800000000001 <Unit('pascal')>"
      ]
     },
     "execution_count": 75,
     "metadata": {},
     "output_type": "execute_result"
    }
   ],
   "source": [
    "fin.dynPressure(136*ureg.m/ureg.s)"
   ]
  },
  {
   "cell_type": "code",
   "execution_count": 76,
   "metadata": {},
   "outputs": [
    {
     "data": {
      "text/html": [
       "\\[4.531412025005384\\ newton\\]"
      ],
      "text/latex": [
       "$4.531412025005384\\ \\mathrm{newton}$"
      ],
      "text/plain": [
       "4.531412025005384 <Unit('newton')>"
      ]
     },
     "execution_count": 76,
     "metadata": {},
     "output_type": "execute_result"
    }
   ],
   "source": [
    "fin.equivalent_tip_load(136*ureg.m/ureg.s)"
   ]
  },
  {
   "cell_type": "code",
   "execution_count": 77,
   "metadata": {},
   "outputs": [
    {
     "data": {
      "text/html": [
       "\\[2.5919107027986072\\ inch\\]"
      ],
      "text/latex": [
       "$2.5919107027986072\\ \\mathrm{inch}$"
      ],
      "text/plain": [
       "2.5919107027986072 <Unit('inch')>"
      ]
     },
     "execution_count": 77,
     "metadata": {},
     "output_type": "execute_result"
    }
   ],
   "source": [
    "fin.x_t()"
   ]
  },
  {
   "cell_type": "code",
   "execution_count": 78,
   "metadata": {},
   "outputs": [
    {
     "data": {
      "text/html": [
       "\\[4.749224650877691\\ meter/second\\]"
      ],
      "text/latex": [
       "$4.749224650877691\\ \\frac{\\mathrm{meter}}{\\mathrm{second}}$"
      ],
      "text/plain": [
       "4.749224650877691 <Unit('meter / second')>"
      ]
     },
     "execution_count": 78,
     "metadata": {},
     "output_type": "execute_result"
    }
   ],
   "source": [
    "136*np.tan(2*ureg.degree)*ureg.m/ureg.s"
   ]
  },
  {
   "cell_type": "code",
   "execution_count": 79,
   "metadata": {},
   "outputs": [
    {
     "data": {
      "text/html": [
       "\\[26.49658513945802\\ newton\\]"
      ],
      "text/latex": [
       "$26.49658513945802\\ \\mathrm{newton}$"
      ],
      "text/plain": [
       "26.49658513945802 <Unit('newton')>"
      ]
     },
     "execution_count": 79,
     "metadata": {},
     "output_type": "execute_result"
    }
   ],
   "source": [
    "(fin.dynPressure(136*ureg.m/ureg.s)*2*(9/136)*fin.Aref()).to(ureg.N)"
   ]
  },
  {
   "cell_type": "code",
   "execution_count": null,
   "metadata": {},
   "outputs": [],
   "source": []
  },
  {
   "cell_type": "code",
   "execution_count": null,
   "metadata": {},
   "outputs": [],
   "source": []
  },
  {
   "cell_type": "code",
   "execution_count": null,
   "metadata": {},
   "outputs": [],
   "source": []
  }
 ],
 "metadata": {
  "kernelspec": {
   "display_name": "Python 3",
   "language": "python",
   "name": "python3"
  },
  "language_info": {
   "codemirror_mode": {
    "name": "ipython",
    "version": 3
   },
   "file_extension": ".py",
   "mimetype": "text/x-python",
   "name": "python",
   "nbconvert_exporter": "python",
   "pygments_lexer": "ipython3",
   "version": "3.6.7"
  }
 },
 "nbformat": 4,
 "nbformat_minor": 2
}
