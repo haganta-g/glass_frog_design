{
 "cells": [
  {
   "cell_type": "code",
   "execution_count": 1,
   "metadata": {},
   "outputs": [],
   "source": [
    "import numpy as np\n",
    "import matplotlib.pyplot as plt\n",
    "\n",
    "from fin import Fin, ureg"
   ]
  },
  {
   "cell_type": "code",
   "execution_count": 2,
   "metadata": {},
   "outputs": [],
   "source": [
    "\n",
    "\n",
    "fin = Fin(root_chord=6*ureg.inch, \n",
    "          tip_chord=3*ureg.inch,\n",
    "          span=3*ureg.inch,\n",
    "          tube_diameter=4*ureg.inch,\n",
    "          mid_chord_sweep=20*ureg.degree)\n",
    "\n"
   ]
  },
  {
   "cell_type": "code",
   "execution_count": 3,
   "metadata": {},
   "outputs": [
    {
     "data": {
      "image/png": "[encoded data removed]",
      "text/plain": [
       "<Figure size 432x288 with 1 Axes>"
      ]
     },
     "metadata": {
      "needs_background": "light"
     },
     "output_type": "display_data"
    }
   ],
   "source": [
    "fig, ax = plt.subplots()\n",
    "fin.plot()\n",
    "plt.show()"
   ]
  },
  {
   "cell_type": "code",
   "execution_count": 4,
   "metadata": {},
   "outputs": [
    {
     "data": {
      "text/html": [
       "\\[0.4239336305956048\\ dimensionless\\]"
      ],
      "text/latex": [
       "$0.4239336305956048\\ dimensionless$"
      ],
      "text/plain": [
       "0.4239336305956048 <Unit('dimensionless')>"
      ]
     },
     "execution_count": 4,
     "metadata": {},
     "output_type": "execute_result"
    }
   ],
   "source": [
    "fin.CNa()"
   ]
  },
  {
   "cell_type": "code",
   "execution_count": 5,
   "metadata": {},
   "outputs": [
    {
     "data": {
      "text/html": [
       "\\[2.318626979021603\\ inch\\]"
      ],
      "text/latex": [
       "$2.318626979021603\\ \\mathrm{inch}$"
      ],
      "text/plain": [
       "2.318626979021603 <Unit('inch')>"
      ]
     },
     "execution_count": 5,
     "metadata": {},
     "output_type": "execute_result"
    }
   ],
   "source": [
    "fin.zcp()"
   ]
  },
  {
   "cell_type": "code",
   "execution_count": 6,
   "metadata": {},
   "outputs": [
    {
     "data": {
      "text/html": [
       "\\[5.333333333333333\\ inch\\]"
      ],
      "text/latex": [
       "$5.333333333333333\\ \\mathrm{inch}$"
      ],
      "text/plain": [
       "5.333333333333333 <Unit('inch')>"
      ]
     },
     "execution_count": 6,
     "metadata": {},
     "output_type": "execute_result"
    }
   ],
   "source": [
    "fin.ycp()"
   ]
  },
  {
   "cell_type": "code",
   "execution_count": 7,
   "metadata": {},
   "outputs": [
    {
     "data": {
      "text/html": [
       "\\[2.5919107027986072\\ inch\\]"
      ],
      "text/latex": [
       "$2.5919107027986072\\ \\mathrm{inch}$"
      ],
      "text/plain": [
       "2.5919107027986072 <Unit('inch')>"
      ]
     },
     "execution_count": 7,
     "metadata": {},
     "output_type": "execute_result"
    }
   ],
   "source": [
    "fin.x_t()"
   ]
  },
  {
   "cell_type": "code",
   "execution_count": 8,
   "metadata": {},
   "outputs": [
    {
     "data": {
      "text/html": [
       "\\[13.5\\ inch^2\\]"
      ],
      "text/latex": [
       "$13.5\\ \\mathrm{inch}^{2}$"
      ],
      "text/plain": [
       "13.5 <Unit('inch ** 2')>"
      ]
     },
     "execution_count": 8,
     "metadata": {},
     "output_type": "execute_result"
    }
   ],
   "source": [
    "fin.area()"
   ]
  },
  {
   "cell_type": "code",
   "execution_count": 9,
   "metadata": {},
   "outputs": [
    {
     "data": {
      "text/html": [
       "\\[50.26548245743669\\ inch^2\\]"
      ],
      "text/latex": [
       "$50.26548245743669\\ \\mathrm{inch}^{2}$"
      ],
      "text/plain": [
       "50.26548245743669 <Unit('inch ** 2')>"
      ]
     },
     "execution_count": 9,
     "metadata": {},
     "output_type": "execute_result"
    }
   ],
   "source": [
    "fin.Aref()"
   ]
  },
  {
   "cell_type": "code",
   "execution_count": 10,
   "metadata": {},
   "outputs": [
    {
     "data": {
      "text/html": [
       "\\[11.229237167686152\\ newton\\]"
      ],
      "text/latex": [
       "$11.229237167686152\\ \\mathrm{newton}$"
      ],
      "text/plain": [
       "11.229237167686152 <Unit('newton')>"
      ]
     },
     "execution_count": 10,
     "metadata": {},
     "output_type": "execute_result"
    }
   ],
   "source": [
    "fin.lift(Vinf=136*ureg.m/ureg.s).to(ureg.N)"
   ]
  },
  {
   "cell_type": "code",
   "execution_count": 11,
   "metadata": {},
   "outputs": [
    {
     "data": {
      "text/html": [
       "\\[380.2968320789709\\ millimeter\\ newton\\]"
      ],
      "text/latex": [
       "$380.2968320789709\\ \\mathrm{millimeter} \\cdot \\mathrm{newton}$"
      ],
      "text/plain": [
       "380.2968320789709 <Unit('millimeter * newton')>"
      ]
     },
     "execution_count": 11,
     "metadata": {},
     "output_type": "execute_result"
    }
   ],
   "source": [
    "fin.root_bending_moment(Vinf = 136*ureg.m/ureg.s)"
   ]
  },
  {
   "cell_type": "code",
   "execution_count": 12,
   "metadata": {},
   "outputs": [
    {
     "data": {
      "text/html": [
       "\\[11328.800000000001\\ pascal\\]"
      ],
      "text/latex": [
       "$11328.800000000001\\ \\mathrm{pascal}$"
      ],
      "text/plain": [
       "11328.800000000001 <Unit('pascal')>"
      ]
     },
     "execution_count": 12,
     "metadata": {},
     "output_type": "execute_result"
    }
   ],
   "source": [
    "fin.dynPressure(136*ureg.m/ureg.s)"
   ]
  },
  {
   "cell_type": "code",
   "execution_count": 13,
   "metadata": {},
   "outputs": [
    {
     "data": {
      "text/html": [
       "\\[4.990772074527178\\ newton\\]"
      ],
      "text/latex": [
       "$4.990772074527178\\ \\mathrm{newton}$"
      ],
      "text/plain": [
       "4.990772074527178 <Unit('newton')>"
      ]
     },
     "execution_count": 13,
     "metadata": {},
     "output_type": "execute_result"
    }
   ],
   "source": [
    "fin.equivalent_tip_load(136*ureg.m/ureg.s)"
   ]
  },
  {
   "cell_type": "code",
   "execution_count": 14,
   "metadata": {},
   "outputs": [
    {
     "data": {
      "text/html": [
       "\\[2.5919107027986072\\ inch\\]"
      ],
      "text/latex": [
       "$2.5919107027986072\\ \\mathrm{inch}$"
      ],
      "text/plain": [
       "2.5919107027986072 <Unit('inch')>"
      ]
     },
     "execution_count": 14,
     "metadata": {},
     "output_type": "execute_result"
    }
   ],
   "source": [
    "fin.x_t()"
   ]
  },
  {
   "cell_type": "code",
   "execution_count": 17,
   "metadata": {},
   "outputs": [
    {
     "data": {
      "text/html": [
       "\\[4.749224650877691\\ meter/second\\]"
      ],
      "text/latex": [
       "$4.749224650877691\\ \\frac{\\mathrm{meter}}{\\mathrm{second}}$"
      ],
      "text/plain": [
       "4.749224650877691 <Unit('meter / second')>"
      ]
     },
     "execution_count": 17,
     "metadata": {},
     "output_type": "execute_result"
    }
   ],
   "source": [
    "136*np.tan(2*ureg.degree)*ureg.m/ureg.s"
   ]
  },
  {
   "cell_type": "code",
   "execution_count": 22,
   "metadata": {},
   "outputs": [
    {
     "data": {
      "text/html": [
       "\\[48.62446042616244\\ newton\\]"
      ],
      "text/latex": [
       "$48.62446042616244\\ \\mathrm{newton}$"
      ],
      "text/plain": [
       "48.62446042616244 <Unit('newton')>"
      ]
     },
     "execution_count": 22,
     "metadata": {},
     "output_type": "execute_result"
    }
   ],
   "source": [
    "(fin.dynPressure(136*ureg.m/ureg.s)*2*(9/136)*fin.Aref()).to(ureg.N)"
   ]
  },
  {
   "cell_type": "code",
   "execution_count": null,
   "metadata": {},
   "outputs": [],
   "source": []
  }
 ],
 "metadata": {
  "kernelspec": {
   "display_name": "Python 3",
   "language": "python",
   "name": "python3"
  },
  "language_info": {
   "codemirror_mode": {
    "name": "ipython",
    "version": 3
   },
   "file_extension": ".py",
   "mimetype": "text/x-python",
   "name": "python",
   "nbconvert_exporter": "python",
   "pygments_lexer": "ipython3",
   "version": "3.6.7"
  }
 },
 "nbformat": 4,
 "nbformat_minor": 2
}
