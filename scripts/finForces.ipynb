{
 "cells": [
  {
   "cell_type": "code",
   "execution_count": 1,
   "metadata": {},
   "outputs": [],
   "source": [
    "import numpy as np\n",
    "import matplotlib.pyplot as plt\n",
    "\n",
    "from fin import Fin, ureg"
   ]
  },
  {
   "cell_type": "code",
   "execution_count": 2,
   "metadata": {},
   "outputs": [],
   "source": [
    "\n",
    "\n",
    "fin = Fin(root_chord=5*ureg.inch, \n",
    "          tip_chord=2*ureg.inch,\n",
    "          span=3*ureg.inch,\n",
    "          tube_diameter=50*2*ureg.mm,\n",
    "          mid_chord_sweep=20*ureg.degree)\n",
    "\n"
   ]
  },
  {
   "cell_type": "code",
   "execution_count": 3,
   "metadata": {},
   "outputs": [
    {
     "data": {
      "image/png": "[encoded data removed]",
      "text/plain": [
       "<Figure size 432x288 with 1 Axes>"
      ]
     },
     "metadata": {
      "needs_background": "light"
     },
     "output_type": "display_data"
    }
   ],
   "source": [
    "fig, ax = plt.subplots()\n",
    "fin.plot()\n",
    "plt.show()"
   ]
  },
  {
   "cell_type": "code",
   "execution_count": 4,
   "metadata": {},
   "outputs": [
    {
     "data": {
      "text/html": [
       "\\[0.0023842054029647474\\ inch^2/millimeter^2\\]"
      ],
      "text/latex": [
       "$0.0023842054029647474\\ \\frac{\\mathrm{inch}^{2}}{\\mathrm{millimeter}^{2}}$"
      ],
      "text/plain": [
       "0.0023842054029647474 <Unit('inch ** 2 / millimeter ** 2')>"
      ]
     },
     "execution_count": 4,
     "metadata": {},
     "output_type": "execute_result"
    }
   ],
   "source": [
    "fin.CNa()"
   ]
  },
  {
   "cell_type": "code",
   "execution_count": 5,
   "metadata": {},
   "outputs": [
    {
     "data": {
      "text/html": [
       "\\[2.0393903011994032\\ inch\\]"
      ],
      "text/latex": [
       "$2.0393903011994032\\ \\mathrm{inch}$"
      ],
      "text/plain": [
       "2.0393903011994032 <Unit('inch')>"
      ]
     },
     "execution_count": 5,
     "metadata": {},
     "output_type": "execute_result"
    }
   ],
   "source": [
    "fin.zcp()"
   ]
  },
  {
   "cell_type": "code",
   "execution_count": 6,
   "metadata": {},
   "outputs": [
    {
     "data": {
      "text/html": [
       "\\[82.65714285714286\\ millimeter\\]"
      ],
      "text/latex": [
       "$82.65714285714286\\ \\mathrm{millimeter}$"
      ],
      "text/plain": [
       "82.65714285714286 <Unit('millimeter')>"
      ]
     },
     "execution_count": 6,
     "metadata": {},
     "output_type": "execute_result"
    }
   ],
   "source": [
    "fin.ycp()"
   ]
  },
  {
   "cell_type": "code",
   "execution_count": 7,
   "metadata": {},
   "outputs": [
    {
     "data": {
      "text/html": [
       "\\[2.5919107027986072\\ inch\\]"
      ],
      "text/latex": [
       "$2.5919107027986072\\ \\mathrm{inch}$"
      ],
      "text/plain": [
       "2.5919107027986072 <Unit('inch')>"
      ]
     },
     "execution_count": 7,
     "metadata": {},
     "output_type": "execute_result"
    }
   ],
   "source": [
    "fin.x_t()"
   ]
  },
  {
   "cell_type": "code",
   "execution_count": 8,
   "metadata": {},
   "outputs": [
    {
     "data": {
      "text/html": [
       "\\[10.5\\ inch^2\\]"
      ],
      "text/latex": [
       "$10.5\\ \\mathrm{inch}^{2}$"
      ],
      "text/plain": [
       "10.5 <Unit('inch ** 2')>"
      ]
     },
     "execution_count": 8,
     "metadata": {},
     "output_type": "execute_result"
    }
   ],
   "source": [
    "fin.area()"
   ]
  },
  {
   "cell_type": "code",
   "execution_count": 9,
   "metadata": {},
   "outputs": [
    {
     "data": {
      "text/html": [
       "\\[7853.981633974483\\ millimeter^2\\]"
      ],
      "text/latex": [
       "$7853.981633974483\\ \\mathrm{millimeter}^{2}$"
      ],
      "text/plain": [
       "7853.981633974483 <Unit('millimeter ** 2')>"
      ]
     },
     "execution_count": 9,
     "metadata": {},
     "output_type": "execute_result"
    }
   ],
   "source": [
    "fin.Aref()"
   ]
  },
  {
   "cell_type": "code",
   "execution_count": 10,
   "metadata": {},
   "outputs": [
    {
     "data": {
      "text/html": [
       "\\[9.867703188864832\\ newton\\]"
      ],
      "text/latex": [
       "$9.867703188864832\\ \\mathrm{newton}$"
      ],
      "text/plain": [
       "9.867703188864832 <Unit('newton')>"
      ]
     },
     "execution_count": 10,
     "metadata": {},
     "output_type": "execute_result"
    }
   ],
   "source": [
    "fin.lift(Vinf=136*ureg.m/ureg.s).to(ureg.N)"
   ]
  },
  {
   "cell_type": "code",
   "execution_count": 11,
   "metadata": {},
   "outputs": [
    {
     "data": {
      "text/html": [
       "\\[82.65714285714286\\ millimeter\\]"
      ],
      "text/latex": [
       "$82.65714285714286\\ \\mathrm{millimeter}$"
      ],
      "text/plain": [
       "82.65714285714286 <Unit('millimeter')>"
      ]
     },
     "execution_count": 11,
     "metadata": {},
     "output_type": "execute_result"
    }
   ],
   "source": [
    "fin.ycp().to(ureg.mm)"
   ]
  },
  {
   "cell_type": "code",
   "execution_count": 12,
   "metadata": {},
   "outputs": [
    {
     "data": {
      "text/plain": [
       "2"
      ]
     },
     "execution_count": 12,
     "metadata": {},
     "output_type": "execute_result"
    }
   ],
   "source": [
    "2"
   ]
  },
  {
   "cell_type": "code",
   "execution_count": 13,
   "metadata": {
    "scrolled": true
   },
   "outputs": [
    {
     "data": {
      "text/html": [
       "\\[2446.9084564616533\\ millimeter\\ newton\\]"
      ],
      "text/latex": [
       "$2446.9084564616533\\ \\mathrm{millimeter} \\cdot \\mathrm{newton}$"
      ],
      "text/plain": [
       "2446.9084564616533 <Unit('millimeter * newton')>"
      ]
     },
     "execution_count": 13,
     "metadata": {},
     "output_type": "execute_result"
    }
   ],
   "source": [
    "3*(fin.lift(Vinf=136*ureg.m/ureg.s).to(ureg.N) *fin.ycp() ).to(ureg.N*ureg.mm)"
   ]
  },
  {
   "cell_type": "code",
   "execution_count": 14,
   "metadata": {},
   "outputs": [
    {
     "data": {
      "text/html": [
       "\\[322.25099271064295\\ millimeter\\ newton\\]"
      ],
      "text/latex": [
       "$322.25099271064295\\ \\mathrm{millimeter} \\cdot \\mathrm{newton}$"
      ],
      "text/plain": [
       "322.25099271064295 <Unit('millimeter * newton')>"
      ]
     },
     "execution_count": 14,
     "metadata": {},
     "output_type": "execute_result"
    }
   ],
   "source": [
    "(fin.lift(Vinf=136*ureg.m/ureg.s).to(ureg.N) *(fin.ycp()-fin.r_t) ).to(ureg.N*ureg.mm)"
   ]
  },
  {
   "cell_type": "code",
   "execution_count": 15,
   "metadata": {},
   "outputs": [
    {
     "data": {
      "text/html": [
       "\\[322.25099271064295\\ millimeter\\ newton\\]"
      ],
      "text/latex": [
       "$322.25099271064295\\ \\mathrm{millimeter} \\cdot \\mathrm{newton}$"
      ],
      "text/plain": [
       "322.25099271064295 <Unit('millimeter * newton')>"
      ]
     },
     "execution_count": 15,
     "metadata": {},
     "output_type": "execute_result"
    }
   ],
   "source": [
    "fin.root_bending_moment(Vinf = 136*ureg.m/ureg.s)"
   ]
  },
  {
   "cell_type": "code",
   "execution_count": 16,
   "metadata": {},
   "outputs": [
    {
     "data": {
      "text/html": [
       "\\[11328.800000000001\\ pascal\\]"
      ],
      "text/latex": [
       "$11328.800000000001\\ \\mathrm{pascal}$"
      ],
      "text/plain": [
       "11328.800000000001 <Unit('pascal')>"
      ]
     },
     "execution_count": 16,
     "metadata": {},
     "output_type": "execute_result"
    }
   ],
   "source": [
    "fin.dynPressure(136*ureg.m/ureg.s)"
   ]
  },
  {
   "cell_type": "code",
   "execution_count": 17,
   "metadata": {},
   "outputs": [
    {
     "data": {
      "text/html": [
       "\\[4.229015652370643\\ newton\\]"
      ],
      "text/latex": [
       "$4.229015652370643\\ \\mathrm{newton}$"
      ],
      "text/plain": [
       "4.229015652370643 <Unit('newton')>"
      ]
     },
     "execution_count": 17,
     "metadata": {},
     "output_type": "execute_result"
    }
   ],
   "source": [
    "fin.equivalent_tip_load(136*ureg.m/ureg.s)"
   ]
  },
  {
   "cell_type": "code",
   "execution_count": 18,
   "metadata": {},
   "outputs": [
    {
     "data": {
      "text/html": [
       "\\[2.5919107027986072\\ inch\\]"
      ],
      "text/latex": [
       "$2.5919107027986072\\ \\mathrm{inch}$"
      ],
      "text/plain": [
       "2.5919107027986072 <Unit('inch')>"
      ]
     },
     "execution_count": 18,
     "metadata": {},
     "output_type": "execute_result"
    }
   ],
   "source": [
    "fin.x_t()"
   ]
  },
  {
   "cell_type": "code",
   "execution_count": 19,
   "metadata": {},
   "outputs": [
    {
     "data": {
      "text/html": [
       "\\[4.749224650877691\\ meter/second\\]"
      ],
      "text/latex": [
       "$4.749224650877691\\ \\frac{\\mathrm{meter}}{\\mathrm{second}}$"
      ],
      "text/plain": [
       "4.749224650877691 <Unit('meter / second')>"
      ]
     },
     "execution_count": 19,
     "metadata": {},
     "output_type": "execute_result"
    }
   ],
   "source": [
    "136*np.tan(2*ureg.degree)*ureg.m/ureg.s"
   ]
  },
  {
   "cell_type": "code",
   "execution_count": 22,
   "metadata": {},
   "outputs": [
    {
     "data": {
      "text/html": [
       "\\[11.77626006198134\\ newton\\]"
      ],
      "text/latex": [
       "$11.77626006198134\\ \\mathrm{newton}$"
      ],
      "text/plain": [
       "11.77626006198134 <Unit('newton')>"
      ]
     },
     "execution_count": 22,
     "metadata": {},
     "output_type": "execute_result"
    }
   ],
   "source": [
    "# to calculate the nose lift\n",
    "CNA = 2\n",
    "alpha = 9/136\n",
    "(fin.dynPressure(136*ureg.m/ureg.s)*CNA*alpha*fin.Aref()).to(ureg.N)"
   ]
  },
  {
   "cell_type": "code",
   "execution_count": 20,
   "metadata": {},
   "outputs": [
    {
     "data": {
      "text/html": [
       "\\[11.77626006198134\\ newton\\]"
      ],
      "text/latex": [
       "$11.77626006198134\\ \\mathrm{newton}$"
      ],
      "text/plain": [
       "11.77626006198134 <Unit('newton')>"
      ]
     },
     "execution_count": 20,
     "metadata": {},
     "output_type": "execute_result"
    }
   ],
   "source": []
  },
  {
   "cell_type": "code",
   "execution_count": null,
   "metadata": {},
   "outputs": [],
   "source": []
  },
  {
   "cell_type": "code",
   "execution_count": null,
   "metadata": {},
   "outputs": [],
   "source": []
  },
  {
   "cell_type": "code",
   "execution_count": null,
   "metadata": {},
   "outputs": [],
   "source": []
  }
 ],
 "metadata": {
  "kernelspec": {
   "display_name": "Python 3",
   "language": "python",
   "name": "python3"
  },
  "language_info": {
   "codemirror_mode": {
    "name": "ipython",
    "version": 3
   },
   "file_extension": ".py",
   "mimetype": "text/x-python",
   "name": "python",
   "nbconvert_exporter": "python",
   "pygments_lexer": "ipython3",
   "version": "3.6.7"
  }
 },
 "nbformat": 4,
 "nbformat_minor": 2
}
